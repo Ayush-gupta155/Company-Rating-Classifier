{
 "cells": [
  {
   "cell_type": "code",
   "execution_count": 1,
   "id": "e2e29788",
   "metadata": {},
   "outputs": [],
   "source": [
    "# Importing Libraries\n",
    "import pandas as pd\n",
    "import numpy as np\n",
    "import matplotlib.pyplot as plt\n",
    "import seaborn as sns\n",
    "%matplotlib inline"
   ]
  },
  {
   "cell_type": "code",
   "execution_count": 2,
   "id": "f98c4607",
   "metadata": {},
   "outputs": [],
   "source": [
    "DF = pd.read_csv('DataFrame_2.csv')"
   ]
  },
  {
   "cell_type": "code",
   "execution_count": 4,
   "id": "83c41425",
   "metadata": {},
   "outputs": [
    {
     "data": {
      "text/html": [
       "<div>\n",
       "<style scoped>\n",
       "    .dataframe tbody tr th:only-of-type {\n",
       "        vertical-align: middle;\n",
       "    }\n",
       "\n",
       "    .dataframe tbody tr th {\n",
       "        vertical-align: top;\n",
       "    }\n",
       "\n",
       "    .dataframe thead th {\n",
       "        text-align: right;\n",
       "    }\n",
       "</style>\n",
       "<table border=\"1\" class=\"dataframe\">\n",
       "  <thead>\n",
       "    <tr style=\"text-align: right;\">\n",
       "      <th></th>\n",
       "      <th>RATINGS</th>\n",
       "      <th>CLASS</th>\n",
       "      <th>AGE_Encoded</th>\n",
       "      <th>NAME_Encoded</th>\n",
       "      <th>COMPANY TYPE_Encoded</th>\n",
       "      <th>EMPLOYEES_Encoded</th>\n",
       "      <th>REVIEWS_Encoded</th>\n",
       "      <th>HEADQUATERS_Encoded</th>\n",
       "      <th>AGE_Division_Encoded</th>\n",
       "    </tr>\n",
       "  </thead>\n",
       "  <tbody>\n",
       "    <tr>\n",
       "      <th>0</th>\n",
       "      <td>3.9</td>\n",
       "      <td>2</td>\n",
       "      <td>1.300000</td>\n",
       "      <td>2.0</td>\n",
       "      <td>1.357733</td>\n",
       "      <td>1.151515</td>\n",
       "      <td>2.0</td>\n",
       "      <td>2.0</td>\n",
       "      <td>0.319166</td>\n",
       "    </tr>\n",
       "    <tr>\n",
       "      <th>1</th>\n",
       "      <td>4.1</td>\n",
       "      <td>1</td>\n",
       "      <td>1.486486</td>\n",
       "      <td>1.0</td>\n",
       "      <td>1.357733</td>\n",
       "      <td>1.151515</td>\n",
       "      <td>1.0</td>\n",
       "      <td>1.0</td>\n",
       "      <td>0.319166</td>\n",
       "    </tr>\n",
       "    <tr>\n",
       "      <th>2</th>\n",
       "      <td>4.0</td>\n",
       "      <td>1</td>\n",
       "      <td>1.454545</td>\n",
       "      <td>1.0</td>\n",
       "      <td>1.454695</td>\n",
       "      <td>1.151515</td>\n",
       "      <td>1.0</td>\n",
       "      <td>1.0</td>\n",
       "      <td>0.399581</td>\n",
       "    </tr>\n",
       "    <tr>\n",
       "      <th>3</th>\n",
       "      <td>4.0</td>\n",
       "      <td>1</td>\n",
       "      <td>1.454545</td>\n",
       "      <td>1.0</td>\n",
       "      <td>1.357733</td>\n",
       "      <td>1.266667</td>\n",
       "      <td>1.0</td>\n",
       "      <td>1.0</td>\n",
       "      <td>0.399581</td>\n",
       "    </tr>\n",
       "    <tr>\n",
       "      <th>4</th>\n",
       "      <td>3.9</td>\n",
       "      <td>2</td>\n",
       "      <td>1.230769</td>\n",
       "      <td>2.0</td>\n",
       "      <td>1.357733</td>\n",
       "      <td>1.151515</td>\n",
       "      <td>2.0</td>\n",
       "      <td>2.0</td>\n",
       "      <td>0.319166</td>\n",
       "    </tr>\n",
       "  </tbody>\n",
       "</table>\n",
       "</div>"
      ],
      "text/plain": [
       "   RATINGS  CLASS  AGE_Encoded  NAME_Encoded  COMPANY TYPE_Encoded  \\\n",
       "0      3.9      2     1.300000           2.0              1.357733   \n",
       "1      4.1      1     1.486486           1.0              1.357733   \n",
       "2      4.0      1     1.454545           1.0              1.454695   \n",
       "3      4.0      1     1.454545           1.0              1.357733   \n",
       "4      3.9      2     1.230769           2.0              1.357733   \n",
       "\n",
       "   EMPLOYEES_Encoded  REVIEWS_Encoded  HEADQUATERS_Encoded  \\\n",
       "0           1.151515              2.0                  2.0   \n",
       "1           1.151515              1.0                  1.0   \n",
       "2           1.151515              1.0                  1.0   \n",
       "3           1.266667              1.0                  1.0   \n",
       "4           1.151515              2.0                  2.0   \n",
       "\n",
       "   AGE_Division_Encoded  \n",
       "0              0.319166  \n",
       "1              0.319166  \n",
       "2              0.399581  \n",
       "3              0.399581  \n",
       "4              0.319166  "
      ]
     },
     "execution_count": 4,
     "metadata": {},
     "output_type": "execute_result"
    }
   ],
   "source": [
    "DF.head()"
   ]
  },
  {
   "cell_type": "code",
   "execution_count": 5,
   "id": "340ea2eb",
   "metadata": {},
   "outputs": [
    {
     "data": {
      "text/plain": [
       "array([2, 1, 0, 3], dtype=int64)"
      ]
     },
     "execution_count": 5,
     "metadata": {},
     "output_type": "execute_result"
    }
   ],
   "source": [
    "# All the values in the target feature.\n",
    "DF['CLASS'].unique()"
   ]
  },
  {
   "cell_type": "markdown",
   "id": "736f5b0a",
   "metadata": {},
   "source": [
    "## Spliting the Dataset into Train and Test sub datasets"
   ]
  },
  {
   "cell_type": "code",
   "execution_count": 6,
   "id": "34384ce4",
   "metadata": {},
   "outputs": [],
   "source": [
    "# Imorting Library\n",
    "from sklearn.model_selection import train_test_split"
   ]
  },
  {
   "cell_type": "code",
   "execution_count": 7,
   "id": "465183cd",
   "metadata": {},
   "outputs": [],
   "source": [
    "# X is a varibale for all independent features\n",
    "X= DF.drop(['CLASS'],axis=1)\n",
    "#print(X)\n",
    "Y = DF[['CLASS']]\n",
    "#print(Y)\n",
    "\n",
    "#Splitting the Data into Training and Testing data\n",
    "# Train and testing the data\n",
    "x_train,x_test,y_train,y_test =train_test_split(X,Y,test_size=0.2,random_state=100)\n",
    "\n",
    "# Test size is taken 20% of total Dataset , Whereas Train Size is 80% of total datase"
   ]
  },
  {
   "cell_type": "code",
   "execution_count": 8,
   "id": "342db714",
   "metadata": {},
   "outputs": [
    {
     "name": "stdout",
     "output_type": "stream",
     "text": [
      "(2357, 8)\n",
      "(590, 8)\n"
     ]
    }
   ],
   "source": [
    "print(x_train.shape)\n",
    "print(x_test.shape)"
   ]
  },
  {
   "cell_type": "code",
   "execution_count": 9,
   "id": "a5c45fac",
   "metadata": {},
   "outputs": [
    {
     "data": {
      "text/html": [
       "<div>\n",
       "<style scoped>\n",
       "    .dataframe tbody tr th:only-of-type {\n",
       "        vertical-align: middle;\n",
       "    }\n",
       "\n",
       "    .dataframe tbody tr th {\n",
       "        vertical-align: top;\n",
       "    }\n",
       "\n",
       "    .dataframe thead th {\n",
       "        text-align: right;\n",
       "    }\n",
       "</style>\n",
       "<table border=\"1\" class=\"dataframe\">\n",
       "  <thead>\n",
       "    <tr style=\"text-align: right;\">\n",
       "      <th></th>\n",
       "      <th>RATINGS</th>\n",
       "      <th>AGE_Encoded</th>\n",
       "      <th>NAME_Encoded</th>\n",
       "      <th>COMPANY TYPE_Encoded</th>\n",
       "      <th>EMPLOYEES_Encoded</th>\n",
       "      <th>REVIEWS_Encoded</th>\n",
       "      <th>HEADQUATERS_Encoded</th>\n",
       "      <th>AGE_Division_Encoded</th>\n",
       "    </tr>\n",
       "  </thead>\n",
       "  <tbody>\n",
       "    <tr>\n",
       "      <th>1107</th>\n",
       "      <td>4.2</td>\n",
       "      <td>1.000000</td>\n",
       "      <td>1.0</td>\n",
       "      <td>1.454695</td>\n",
       "      <td>1.498148</td>\n",
       "      <td>1.500000</td>\n",
       "      <td>1.0</td>\n",
       "      <td>0.319166</td>\n",
       "    </tr>\n",
       "    <tr>\n",
       "      <th>2560</th>\n",
       "      <td>3.3</td>\n",
       "      <td>1.637931</td>\n",
       "      <td>3.0</td>\n",
       "      <td>1.357733</td>\n",
       "      <td>1.419984</td>\n",
       "      <td>1.400000</td>\n",
       "      <td>3.0</td>\n",
       "      <td>0.399581</td>\n",
       "    </tr>\n",
       "    <tr>\n",
       "      <th>2426</th>\n",
       "      <td>4.2</td>\n",
       "      <td>1.486486</td>\n",
       "      <td>1.0</td>\n",
       "      <td>1.454695</td>\n",
       "      <td>1.111111</td>\n",
       "      <td>1.647059</td>\n",
       "      <td>1.0</td>\n",
       "      <td>0.319166</td>\n",
       "    </tr>\n",
       "    <tr>\n",
       "      <th>1410</th>\n",
       "      <td>3.9</td>\n",
       "      <td>1.637931</td>\n",
       "      <td>2.0</td>\n",
       "      <td>1.454695</td>\n",
       "      <td>1.419984</td>\n",
       "      <td>2.000000</td>\n",
       "      <td>2.0</td>\n",
       "      <td>0.399581</td>\n",
       "    </tr>\n",
       "    <tr>\n",
       "      <th>708</th>\n",
       "      <td>4.3</td>\n",
       "      <td>1.000000</td>\n",
       "      <td>1.0</td>\n",
       "      <td>1.357733</td>\n",
       "      <td>1.498148</td>\n",
       "      <td>1.000000</td>\n",
       "      <td>1.0</td>\n",
       "      <td>0.319166</td>\n",
       "    </tr>\n",
       "  </tbody>\n",
       "</table>\n",
       "</div>"
      ],
      "text/plain": [
       "      RATINGS  AGE_Encoded  NAME_Encoded  COMPANY TYPE_Encoded  \\\n",
       "1107      4.2     1.000000           1.0              1.454695   \n",
       "2560      3.3     1.637931           3.0              1.357733   \n",
       "2426      4.2     1.486486           1.0              1.454695   \n",
       "1410      3.9     1.637931           2.0              1.454695   \n",
       "708       4.3     1.000000           1.0              1.357733   \n",
       "\n",
       "      EMPLOYEES_Encoded  REVIEWS_Encoded  HEADQUATERS_Encoded  \\\n",
       "1107           1.498148         1.500000                  1.0   \n",
       "2560           1.419984         1.400000                  3.0   \n",
       "2426           1.111111         1.647059                  1.0   \n",
       "1410           1.419984         2.000000                  2.0   \n",
       "708            1.498148         1.000000                  1.0   \n",
       "\n",
       "      AGE_Division_Encoded  \n",
       "1107              0.319166  \n",
       "2560              0.399581  \n",
       "2426              0.319166  \n",
       "1410              0.399581  \n",
       "708               0.319166  "
      ]
     },
     "execution_count": 9,
     "metadata": {},
     "output_type": "execute_result"
    }
   ],
   "source": [
    "x_train.head()"
   ]
  },
  {
   "cell_type": "markdown",
   "id": "c6ba8b1e",
   "metadata": {},
   "source": [
    "# Feature Selection:\n",
    "\n",
    "## 1. Information gain - mutual information \n",
    "Mutual Information\n",
    "MI Estimate mutual information for a discrete target variable.\n",
    "\n",
    "Mutual information (MI) between two random variables is a non-negative value, which measures the dependency between the variables. It is equal to zero if and only if two random variables are independent, and higher values mean higher dependency.\n",
    "\n",
    "The mutual information between two random variables X and Y can be stated formally as follows:\n",
    "\n",
    "* I(X ; Y) = H(X) – H(X | Y) Where I(X ; Y) is the mutual information for X and Y, H(X) is the entropy for X and H(X | Y) is the conditional entropy for X given Y. The result has the units of bits."
   ]
  },
  {
   "cell_type": "code",
   "execution_count": 12,
   "id": "a9143087",
   "metadata": {},
   "outputs": [
    {
     "name": "stderr",
     "output_type": "stream",
     "text": [
      "C:\\Users\\AYUSH GUPTA\\anaconda3-NEW\\lib\\site-packages\\sklearn\\utils\\validation.py:1111: DataConversionWarning: A column-vector y was passed when a 1d array was expected. Please change the shape of y to (n_samples, ), for example using ravel().\n",
      "  y = column_or_1d(y, warn=True)\n"
     ]
    },
    {
     "data": {
      "text/plain": [
       "array([0.99691724, 0.0674389 , 0.99691724, 0.09288798, 0.07096724,\n",
       "       0.14731346, 0.63263271, 0.01335844])"
      ]
     },
     "execution_count": 12,
     "metadata": {},
     "output_type": "execute_result"
    }
   ],
   "source": [
    "from sklearn.feature_selection import mutual_info_classif\n",
    "#determine the mutual information\n",
    "mutual_info = mutual_info_classif(x_train, y_train)\n",
    "mutual_info"
   ]
  },
  {
   "cell_type": "code",
   "execution_count": 14,
   "id": "c690ab94",
   "metadata": {},
   "outputs": [
    {
     "data": {
      "text/plain": [
       "RATINGS                 0.996917\n",
       "NAME_Encoded            0.996917\n",
       "HEADQUATERS_Encoded     0.632633\n",
       "REVIEWS_Encoded         0.147313\n",
       "COMPANY TYPE_Encoded    0.092888\n",
       "EMPLOYEES_Encoded       0.070967\n",
       "AGE_Encoded             0.067439\n",
       "AGE_Division_Encoded    0.013358\n",
       "dtype: float64"
      ]
     },
     "execution_count": 14,
     "metadata": {},
     "output_type": "execute_result"
    }
   ],
   "source": [
    "mutual_info = pd.Series(mutual_info)\n",
    "mutual_info.index = x_train.columns\n",
    "mutual_info.sort_values(ascending=False)"
   ]
  },
  {
   "cell_type": "code",
   "execution_count": 15,
   "id": "fa97d4b1",
   "metadata": {},
   "outputs": [
    {
     "data": {
      "text/plain": [
       "<AxesSubplot:>"
      ]
     },
     "execution_count": 15,
     "metadata": {},
     "output_type": "execute_result"
    },
    {
     "data": {
      "image/png": "[encoded data removed]",
      "text/plain": [
       "<Figure size 1440x576 with 1 Axes>"
      ]
     },
     "metadata": {
      "needs_background": "light"
     },
     "output_type": "display_data"
    }
   ],
   "source": [
    "#let's plot the ordered mutual_info values per feature\n",
    "mutual_info.sort_values(ascending=False).plot.bar(figsize=(20, 8))"
   ]
  },
  {
   "cell_type": "code",
   "execution_count": 16,
   "id": "82277e74",
   "metadata": {},
   "outputs": [],
   "source": [
    "from sklearn.feature_selection import SelectKBest"
   ]
  },
  {
   "cell_type": "code",
   "execution_count": 19,
   "id": "c27e9a01",
   "metadata": {},
   "outputs": [
    {
     "name": "stderr",
     "output_type": "stream",
     "text": [
      "C:\\Users\\AYUSH GUPTA\\anaconda3-NEW\\lib\\site-packages\\sklearn\\utils\\validation.py:1111: DataConversionWarning: A column-vector y was passed when a 1d array was expected. Please change the shape of y to (n_samples, ), for example using ravel().\n",
      "  y = column_or_1d(y, warn=True)\n"
     ]
    },
    {
     "data": {
      "text/plain": [
       "Index(['RATINGS', 'NAME_Encoded', 'COMPANY TYPE_Encoded', 'REVIEWS_Encoded',\n",
       "       'HEADQUATERS_Encoded'],\n",
       "      dtype='object')"
      ]
     },
     "execution_count": 19,
     "metadata": {},
     "output_type": "execute_result"
    }
   ],
   "source": [
    "#Now we Will select the  top 5 important features\n",
    "sel_five_cols = SelectKBest(mutual_info_classif, k=5)\n",
    "sel_five_cols.fit(x_train, y_train)\n",
    "x_train.columns[sel_five_cols.get_support()]"
   ]
  },
  {
   "cell_type": "markdown",
   "id": "83aafe41",
   "metadata": {},
   "source": [
    "So Top 5 significant Features are : **'RATINGS', 'NAME_Encoded', 'COMPANY TYPE_Encoded', 'REVIEWS_Encoded',\n",
    "       'HEADQUATERS_Encoded'**"
   ]
  },
  {
   "cell_type": "markdown",
   "id": "450a3138",
   "metadata": {},
   "source": [
    "## 2. Fisher Score- Chi square Test For Feature Selection\n",
    "Computes chi-squared stats between each non-negative feature and class.\n",
    "\n",
    "This score should be used to evaluate categorical variables in a classification task.\n",
    "This score can be used to select the n_features features with the highest values for the test chi-squared statistic from X, which must contain only non-negative features such as booleans or frequencies (e.g., term counts in document classification), relative to the classes.\n",
    "\n"
   ]
  },
  {
   "cell_type": "code",
   "execution_count": 20,
   "id": "66062e5c",
   "metadata": {},
   "outputs": [],
   "source": [
    "## Perform chi2 test\n",
    "### chi2 returns 2 values\n",
    "### Fscore and the pvalue\n",
    "from sklearn.feature_selection import chi2\n",
    "f_p_values=chi2(x_train,y_train)"
   ]
  },
  {
   "cell_type": "markdown",
   "id": "5e44adfe",
   "metadata": {},
   "source": [
    "* **The more the value of F-score the more the value of the feature is**\n",
    "* **The Lesses the Value of P-value the more the value of the feature is**"
   ]
  },
  {
   "cell_type": "code",
   "execution_count": 21,
   "id": "3454d813",
   "metadata": {},
   "outputs": [
    {
     "data": {
      "text/plain": [
       "(array([4.84527168e+01, 8.60309610e+00, 7.42323335e+02, 9.04032985e+00,\n",
       "        2.34486839e+00, 3.95397069e+01, 3.96171051e+02, 6.25428224e-02]),\n",
       " array([1.70579294e-010, 3.50610011e-002, 1.39430032e-160, 2.87594571e-002,\n",
       "        5.03979850e-001, 1.33386845e-008, 1.49459256e-085, 9.95917267e-001]))"
      ]
     },
     "execution_count": 21,
     "metadata": {},
     "output_type": "execute_result"
    }
   ],
   "source": [
    "f_p_values # The 1st array is F-Score and the 2nd one is p-value"
   ]
  },
  {
   "cell_type": "code",
   "execution_count": 23,
   "id": "b72f1050",
   "metadata": {},
   "outputs": [
    {
     "data": {
      "text/plain": [
       "RATINGS                  1.705793e-10\n",
       "AGE_Encoded              3.506100e-02\n",
       "NAME_Encoded            1.394300e-160\n",
       "COMPANY TYPE_Encoded     2.875946e-02\n",
       "EMPLOYEES_Encoded        5.039799e-01\n",
       "REVIEWS_Encoded          1.333868e-08\n",
       "HEADQUATERS_Encoded      1.494593e-85\n",
       "AGE_Division_Encoded     9.959173e-01\n",
       "dtype: float64"
      ]
     },
     "execution_count": 23,
     "metadata": {},
     "output_type": "execute_result"
    }
   ],
   "source": [
    "# So let's see the values p-value\n",
    "p_values=pd.Series(f_p_values[1])\n",
    "p_values.index=x_train.columns\n",
    "p_values"
   ]
  },
  {
   "cell_type": "code",
   "execution_count": null,
   "id": "6ac80bae",
   "metadata": {},
   "outputs": [],
   "source": [
    "# AS we can see that it's hard to figure out which is imp feature , let's sort the values"
   ]
  },
  {
   "cell_type": "code",
   "execution_count": 24,
   "id": "359c3f49",
   "metadata": {},
   "outputs": [
    {
     "data": {
      "text/plain": [
       "REVIEWS_Encoded          1.333868e-08\n",
       "RATINGS                  1.705793e-10\n",
       "NAME_Encoded            1.394300e-160\n",
       "HEADQUATERS_Encoded      1.494593e-85\n",
       "EMPLOYEES_Encoded        5.039799e-01\n",
       "COMPANY TYPE_Encoded     2.875946e-02\n",
       "AGE_Encoded              3.506100e-02\n",
       "AGE_Division_Encoded     9.959173e-01\n",
       "dtype: float64"
      ]
     },
     "execution_count": 24,
     "metadata": {},
     "output_type": "execute_result"
    }
   ],
   "source": [
    "p_values.sort_index(ascending=False)"
   ]
  },
  {
   "cell_type": "markdown",
   "id": "2ee424ce",
   "metadata": {},
   "source": [
    "So Top 5 significant Features here are: **REVIEWS_Encoded , RATINGS , NAME_Encoded , HEADQUATERS_Encoded and EMPLOYEES_Encoded**"
   ]
  },
  {
   "cell_type": "markdown",
   "id": "57d9d259",
   "metadata": {},
   "source": [
    "## “DecisionTreeClassifier”  for extract the top significant features."
   ]
  },
  {
   "cell_type": "code",
   "execution_count": 25,
   "id": "98971222",
   "metadata": {},
   "outputs": [],
   "source": [
    "from sklearn.datasets import make_classification\n",
    "from sklearn.tree import DecisionTreeClassifier # or RandomForestClassier for Random forest classifier"
   ]
  },
  {
   "cell_type": "code",
   "execution_count": 26,
   "id": "a9b650c9",
   "metadata": {},
   "outputs": [],
   "source": [
    "clf = DecisionTreeClassifier()"
   ]
  },
  {
   "cell_type": "code",
   "execution_count": 27,
   "id": "06d2e1c8",
   "metadata": {},
   "outputs": [
    {
     "data": {
      "text/html": [
       "<style>#sk-container-id-1 {color: black;background-color: white;}#sk-container-id-1 pre{padding: 0;}#sk-container-id-1 div.sk-toggleable {background-color: white;}#sk-container-id-1 label.sk-toggleable__label {cursor: pointer;display: block;width: 100%;margin-bottom: 0;padding: 0.3em;box-sizing: border-box;text-align: center;}#sk-container-id-1 label.sk-toggleable__label-arrow:before {content: \"▸\";float: left;margin-right: 0.25em;color: #696969;}#sk-container-id-1 label.sk-toggleable__label-arrow:hover:before {color: black;}#sk-container-id-1 div.sk-estimator:hover label.sk-toggleable__label-arrow:before {color: black;}#sk-container-id-1 div.sk-toggleable__content {max-height: 0;max-width: 0;overflow: hidden;text-align: left;background-color: #f0f8ff;}#sk-container-id-1 div.sk-toggleable__content pre {margin: 0.2em;color: black;border-radius: 0.25em;background-color: #f0f8ff;}#sk-container-id-1 input.sk-toggleable__control:checked~div.sk-toggleable__content {max-height: 200px;max-width: 100%;overflow: auto;}#sk-container-id-1 input.sk-toggleable__control:checked~label.sk-toggleable__label-arrow:before {content: \"▾\";}#sk-container-id-1 div.sk-estimator input.sk-toggleable__control:checked~label.sk-toggleable__label {background-color: #d4ebff;}#sk-container-id-1 div.sk-label input.sk-toggleable__control:checked~label.sk-toggleable__label {background-color: #d4ebff;}#sk-container-id-1 input.sk-hidden--visually {border: 0;clip: rect(1px 1px 1px 1px);clip: rect(1px, 1px, 1px, 1px);height: 1px;margin: -1px;overflow: hidden;padding: 0;position: absolute;width: 1px;}#sk-container-id-1 div.sk-estimator {font-family: monospace;background-color: #f0f8ff;border: 1px dotted black;border-radius: 0.25em;box-sizing: border-box;margin-bottom: 0.5em;}#sk-container-id-1 div.sk-estimator:hover {background-color: #d4ebff;}#sk-container-id-1 div.sk-parallel-item::after {content: \"\";width: 100%;border-bottom: 1px solid gray;flex-grow: 1;}#sk-container-id-1 div.sk-label:hover label.sk-toggleable__label {background-color: #d4ebff;}#sk-container-id-1 div.sk-serial::before {content: \"\";position: absolute;border-left: 1px solid gray;box-sizing: border-box;top: 0;bottom: 0;left: 50%;z-index: 0;}#sk-container-id-1 div.sk-serial {display: flex;flex-direction: column;align-items: center;background-color: white;padding-right: 0.2em;padding-left: 0.2em;position: relative;}#sk-container-id-1 div.sk-item {position: relative;z-index: 1;}#sk-container-id-1 div.sk-parallel {display: flex;align-items: stretch;justify-content: center;background-color: white;position: relative;}#sk-container-id-1 div.sk-item::before, #sk-container-id-1 div.sk-parallel-item::before {content: \"\";position: absolute;border-left: 1px solid gray;box-sizing: border-box;top: 0;bottom: 0;left: 50%;z-index: -1;}#sk-container-id-1 div.sk-parallel-item {display: flex;flex-direction: column;z-index: 1;position: relative;background-color: white;}#sk-container-id-1 div.sk-parallel-item:first-child::after {align-self: flex-end;width: 50%;}#sk-container-id-1 div.sk-parallel-item:last-child::after {align-self: flex-start;width: 50%;}#sk-container-id-1 div.sk-parallel-item:only-child::after {width: 0;}#sk-container-id-1 div.sk-dashed-wrapped {border: 1px dashed gray;margin: 0 0.4em 0.5em 0.4em;box-sizing: border-box;padding-bottom: 0.4em;background-color: white;}#sk-container-id-1 div.sk-label label {font-family: monospace;font-weight: bold;display: inline-block;line-height: 1.2em;}#sk-container-id-1 div.sk-label-container {text-align: center;}#sk-container-id-1 div.sk-container {/* jupyter's `normalize.less` sets `[hidden] { display: none; }` but bootstrap.min.css set `[hidden] { display: none !important; }` so we also need the `!important` here to be able to override the default hidden behavior on the sphinx rendered scikit-learn.org. See: https://github.com/scikit-learn/scikit-learn/issues/21755 */display: inline-block !important;position: relative;}#sk-container-id-1 div.sk-text-repr-fallback {display: none;}</style><div id=\"sk-container-id-1\" class=\"sk-top-container\"><div class=\"sk-text-repr-fallback\"><pre>DecisionTreeClassifier()</pre><b>In a Jupyter environment, please rerun this cell to show the HTML representation or trust the notebook. <br />On GitHub, the HTML representation is unable to render, please try loading this page with nbviewer.org.</b></div><div class=\"sk-container\" hidden><div class=\"sk-item\"><div class=\"sk-estimator sk-toggleable\"><input class=\"sk-toggleable__control sk-hidden--visually\" id=\"sk-estimator-id-1\" type=\"checkbox\" checked><label for=\"sk-estimator-id-1\" class=\"sk-toggleable__label sk-toggleable__label-arrow\">DecisionTreeClassifier</label><div class=\"sk-toggleable__content\"><pre>DecisionTreeClassifier()</pre></div></div></div></div></div>"
      ],
      "text/plain": [
       "DecisionTreeClassifier()"
      ]
     },
     "execution_count": 27,
     "metadata": {},
     "output_type": "execute_result"
    }
   ],
   "source": [
    "clf.fit(X,Y)"
   ]
  },
  {
   "cell_type": "code",
   "execution_count": 28,
   "id": "3715287e",
   "metadata": {},
   "outputs": [
    {
     "data": {
      "text/plain": [
       "[Text(0.5, 0.8333333333333334, 'X[2] <= 1.5\\ngini = 0.563\\nsamples = 2947\\nvalue = [120, 1645, 1023, 159]'),\n",
       " Text(0.25, 0.5, 'X[2] <= 0.5\\ngini = 0.127\\nsamples = 1765\\nvalue = [120, 1645, 0, 0]'),\n",
       " Text(0.125, 0.16666666666666666, 'gini = 0.0\\nsamples = 120\\nvalue = [120, 0, 0, 0]'),\n",
       " Text(0.375, 0.16666666666666666, 'gini = 0.0\\nsamples = 1645\\nvalue = [0, 1645, 0, 0]'),\n",
       " Text(0.75, 0.5, 'X[0] <= 3.45\\ngini = 0.233\\nsamples = 1182\\nvalue = [0, 0, 1023, 159]'),\n",
       " Text(0.625, 0.16666666666666666, 'gini = 0.0\\nsamples = 159\\nvalue = [0, 0, 0, 159]'),\n",
       " Text(0.875, 0.16666666666666666, 'gini = 0.0\\nsamples = 1023\\nvalue = [0, 0, 1023, 0]')]"
      ]
     },
     "execution_count": 28,
     "metadata": {},
     "output_type": "execute_result"
    },
    {
     "data": {
      "image/png": "[encoded data removed]",
      "text/plain": [
       "<Figure size 432x288 with 1 Axes>"
      ]
     },
     "metadata": {
      "needs_background": "light"
     },
     "output_type": "display_data"
    }
   ],
   "source": [
    "from sklearn.tree import plot_tree\n",
    "plot_tree(clf)"
   ]
  },
  {
   "cell_type": "markdown",
   "id": "4ff0cb92",
   "metadata": {},
   "source": [
    "**Looking for the important features in the Dataset**"
   ]
  },
  {
   "cell_type": "code",
   "execution_count": 29,
   "id": "906e9e69",
   "metadata": {},
   "outputs": [
    {
     "data": {
      "text/plain": [
       "array([0.16577843, 0.        , 0.83422157, 0.        , 0.        ,\n",
       "       0.        , 0.        , 0.        ])"
      ]
     },
     "execution_count": 29,
     "metadata": {},
     "output_type": "execute_result"
    }
   ],
   "source": [
    "clf.feature_importances_"
   ]
  },
  {
   "cell_type": "markdown",
   "id": "686f00ca",
   "metadata": {},
   "source": [
    "Here we can clealy see that the DecsionTreeClassifier has given only two most important features:\n",
    "The First column and the third column which are RATINGS and NAME_Encoded respectively          "
   ]
  },
  {
   "cell_type": "markdown",
   "id": "5f1c9693",
   "metadata": {},
   "source": [
    "#### Fun Fact: The sum of all the values will be equal to 1."
   ]
  },
  {
   "cell_type": "code",
   "execution_count": 33,
   "id": "0a531512",
   "metadata": {},
   "outputs": [
    {
     "data": {
      "text/plain": [
       "0.9999199999999999"
      ]
     },
     "execution_count": 33,
     "metadata": {},
     "output_type": "execute_result"
    }
   ],
   "source": [
    "0.1657 + 0.83422 "
   ]
  },
  {
   "cell_type": "markdown",
   "id": "bcb83a7d",
   "metadata": {},
   "source": [
    "WE COULD ALSO USE 'RANDOMFORESTCLASSIFIER' INSTEAD OF 'DESCISIONTREECLASSFIER' AS IT HAS MORE OPTION TO CHOOSE FROM AND CONSIDERED BETTER SOMETIMES"
   ]
  },
  {
   "cell_type": "code",
   "execution_count": 20,
   "id": "2a8f53f6",
   "metadata": {},
   "outputs": [
    {
     "name": "stdout",
     "output_type": "stream",
     "text": [
      "Collecting mlxtend\n",
      "  Downloading mlxtend-0.20.0-py2.py3-none-any.whl (1.3 MB)\n",
      "Requirement already satisfied: pandas>=0.24.2 in c:\\users\\ayush gupta\\anaconda3-new\\lib\\site-packages (from mlxtend) (1.3.4)\n",
      "Requirement already satisfied: scipy>=1.2.1 in c:\\users\\ayush gupta\\anaconda3-new\\lib\\site-packages (from mlxtend) (1.7.1)\n",
      "Requirement already satisfied: matplotlib>=3.0.0 in c:\\users\\ayush gupta\\anaconda3-new\\lib\\site-packages (from mlxtend) (3.4.3)\n",
      "Collecting scikit-learn>=1.0.2\n",
      "  Downloading scikit_learn-1.1.1-cp39-cp39-win_amd64.whl (7.4 MB)\n",
      "Requirement already satisfied: joblib>=0.13.2 in c:\\users\\ayush gupta\\anaconda3-new\\lib\\site-packages (from mlxtend) (1.1.0)\n",
      "Requirement already satisfied: setuptools in c:\\users\\ayush gupta\\anaconda3-new\\lib\\site-packages (from mlxtend) (58.0.4)\n",
      "Requirement already satisfied: numpy>=1.16.2 in c:\\users\\ayush gupta\\anaconda3-new\\lib\\site-packages (from mlxtend) (1.20.3)\n",
      "Requirement already satisfied: kiwisolver>=1.0.1 in c:\\users\\ayush gupta\\anaconda3-new\\lib\\site-packages (from matplotlib>=3.0.0->mlxtend) (1.3.1)\n",
      "Requirement already satisfied: python-dateutil>=2.7 in c:\\users\\ayush gupta\\anaconda3-new\\lib\\site-packages (from matplotlib>=3.0.0->mlxtend) (2.8.2)\n",
      "Requirement already satisfied: pillow>=6.2.0 in c:\\users\\ayush gupta\\anaconda3-new\\lib\\site-packages (from matplotlib>=3.0.0->mlxtend) (8.4.0)\n",
      "Requirement already satisfied: pyparsing>=2.2.1 in c:\\users\\ayush gupta\\anaconda3-new\\lib\\site-packages (from matplotlib>=3.0.0->mlxtend) (3.0.4)\n",
      "Requirement already satisfied: cycler>=0.10 in c:\\users\\ayush gupta\\anaconda3-new\\lib\\site-packages (from matplotlib>=3.0.0->mlxtend) (0.10.0)\n",
      "Requirement already satisfied: six in c:\\users\\ayush gupta\\anaconda3-new\\lib\\site-packages (from cycler>=0.10->matplotlib>=3.0.0->mlxtend) (1.16.0)\n",
      "Requirement already satisfied: pytz>=2017.3 in c:\\users\\ayush gupta\\anaconda3-new\\lib\\site-packages (from pandas>=0.24.2->mlxtend) (2021.3)\n",
      "Requirement already satisfied: threadpoolctl>=2.0.0 in c:\\users\\ayush gupta\\anaconda3-new\\lib\\site-packages (from scikit-learn>=1.0.2->mlxtend) (2.2.0)\n",
      "Installing collected packages: scikit-learn, mlxtend\n",
      "  Attempting uninstall: scikit-learn\n",
      "    Found existing installation: scikit-learn 0.24.2\n",
      "    Uninstalling scikit-learn-0.24.2:\n",
      "      Successfully uninstalled scikit-learn-0.24.2\n",
      "Successfully installed mlxtend-0.20.0 scikit-learn-1.1.1\n"
     ]
    }
   ],
   "source": [
    "! pip install mlxtend  # incase you have not this package. I had to install it first in my pc."
   ]
  },
  {
   "cell_type": "markdown",
   "id": "b453af91",
   "metadata": {},
   "source": [
    "## SequentialFeatureSelector\n",
    "Transformer that performs Sequential Feature Selection.\n",
    "\n",
    "This Sequential Feature Selector adds (forward selection) or removes (backward selection) features to form a feature subset in a greedy fashion. At each stage, this estimator chooses the best feature to add or remove based on the cross-validation score of an estimator. In the case of unsupervised learning, this Sequential Feature Selector looks only at the features (X), not the desired outputs (y).\n",
    "* we can check about this more on https://scikit-learn.org/stable/modules/generated/sklearn.feature_selection.SequentialFeatureSelector.html"
   ]
  },
  {
   "cell_type": "code",
   "execution_count": 37,
   "id": "f44e820c",
   "metadata": {},
   "outputs": [],
   "source": [
    "import mlxtend\n",
    "from mlxtend.feature_selection import SequentialFeatureSelector as SFS\n",
    "from mlxtend.feature_selection import SequentialFeatureSelector\n",
    "from mlxtend.plotting import plot_sequential_feature_selection as plot_sfs"
   ]
  },
  {
   "cell_type": "code",
   "execution_count": 41,
   "id": "a4d83251",
   "metadata": {},
   "outputs": [],
   "source": [
    "from sklearn.neighbors import KNeighborsClassifier\n",
    "knn = KNeighborsClassifier(n_neighbors=4)"
   ]
  },
  {
   "cell_type": "code",
   "execution_count": 44,
   "id": "fa0e7d81",
   "metadata": {},
   "outputs": [
    {
     "name": "stderr",
     "output_type": "stream",
     "text": [
      "[Parallel(n_jobs=1)]: Using backend SequentialBackend with 1 concurrent workers.\n",
      "C:\\Users\\AYUSH GUPTA\\anaconda3-NEW\\lib\\site-packages\\sklearn\\neighbors\\_classification.py:200: DataConversionWarning: A column-vector y was passed when a 1d array was expected. Please change the shape of y to (n_samples,), for example using ravel().\n",
      "  return self._fit(X, y)\n",
      "C:\\Users\\AYUSH GUPTA\\anaconda3-NEW\\lib\\site-packages\\sklearn\\neighbors\\_classification.py:200: DataConversionWarning: A column-vector y was passed when a 1d array was expected. Please change the shape of y to (n_samples,), for example using ravel().\n",
      "  return self._fit(X, y)\n",
      "C:\\Users\\AYUSH GUPTA\\anaconda3-NEW\\lib\\site-packages\\sklearn\\neighbors\\_classification.py:200: DataConversionWarning: A column-vector y was passed when a 1d array was expected. Please change the shape of y to (n_samples,), for example using ravel().\n",
      "  return self._fit(X, y)\n",
      "C:\\Users\\AYUSH GUPTA\\anaconda3-NEW\\lib\\site-packages\\sklearn\\neighbors\\_classification.py:200: DataConversionWarning: A column-vector y was passed when a 1d array was expected. Please change the shape of y to (n_samples,), for example using ravel().\n",
      "  return self._fit(X, y)\n",
      "C:\\Users\\AYUSH GUPTA\\anaconda3-NEW\\lib\\site-packages\\sklearn\\neighbors\\_classification.py:200: DataConversionWarning: A column-vector y was passed when a 1d array was expected. Please change the shape of y to (n_samples,), for example using ravel().\n",
      "  return self._fit(X, y)\n",
      "[Parallel(n_jobs=1)]: Done   1 out of   1 | elapsed:    0.1s remaining:    0.0s\n",
      "C:\\Users\\AYUSH GUPTA\\anaconda3-NEW\\lib\\site-packages\\sklearn\\neighbors\\_classification.py:200: DataConversionWarning: A column-vector y was passed when a 1d array was expected. Please change the shape of y to (n_samples,), for example using ravel().\n",
      "  return self._fit(X, y)\n",
      "C:\\Users\\AYUSH GUPTA\\anaconda3-NEW\\lib\\site-packages\\sklearn\\neighbors\\_classification.py:200: DataConversionWarning: A column-vector y was passed when a 1d array was expected. Please change the shape of y to (n_samples,), for example using ravel().\n",
      "  return self._fit(X, y)\n",
      "C:\\Users\\AYUSH GUPTA\\anaconda3-NEW\\lib\\site-packages\\sklearn\\neighbors\\_classification.py:200: DataConversionWarning: A column-vector y was passed when a 1d array was expected. Please change the shape of y to (n_samples,), for example using ravel().\n",
      "  return self._fit(X, y)\n",
      "C:\\Users\\AYUSH GUPTA\\anaconda3-NEW\\lib\\site-packages\\sklearn\\neighbors\\_classification.py:200: DataConversionWarning: A column-vector y was passed when a 1d array was expected. Please change the shape of y to (n_samples,), for example using ravel().\n",
      "  return self._fit(X, y)\n",
      "C:\\Users\\AYUSH GUPTA\\anaconda3-NEW\\lib\\site-packages\\sklearn\\neighbors\\_classification.py:200: DataConversionWarning: A column-vector y was passed when a 1d array was expected. Please change the shape of y to (n_samples,), for example using ravel().\n",
      "  return self._fit(X, y)\n",
      "C:\\Users\\AYUSH GUPTA\\anaconda3-NEW\\lib\\site-packages\\sklearn\\neighbors\\_classification.py:200: DataConversionWarning: A column-vector y was passed when a 1d array was expected. Please change the shape of y to (n_samples,), for example using ravel().\n",
      "  return self._fit(X, y)\n",
      "C:\\Users\\AYUSH GUPTA\\anaconda3-NEW\\lib\\site-packages\\sklearn\\neighbors\\_classification.py:200: DataConversionWarning: A column-vector y was passed when a 1d array was expected. Please change the shape of y to (n_samples,), for example using ravel().\n",
      "  return self._fit(X, y)\n",
      "C:\\Users\\AYUSH GUPTA\\anaconda3-NEW\\lib\\site-packages\\sklearn\\neighbors\\_classification.py:200: DataConversionWarning: A column-vector y was passed when a 1d array was expected. Please change the shape of y to (n_samples,), for example using ravel().\n",
      "  return self._fit(X, y)\n",
      "C:\\Users\\AYUSH GUPTA\\anaconda3-NEW\\lib\\site-packages\\sklearn\\neighbors\\_classification.py:200: DataConversionWarning: A column-vector y was passed when a 1d array was expected. Please change the shape of y to (n_samples,), for example using ravel().\n",
      "  return self._fit(X, y)\n",
      "C:\\Users\\AYUSH GUPTA\\anaconda3-NEW\\lib\\site-packages\\sklearn\\neighbors\\_classification.py:200: DataConversionWarning: A column-vector y was passed when a 1d array was expected. Please change the shape of y to (n_samples,), for example using ravel().\n",
      "  return self._fit(X, y)\n",
      "C:\\Users\\AYUSH GUPTA\\anaconda3-NEW\\lib\\site-packages\\sklearn\\neighbors\\_classification.py:200: DataConversionWarning: A column-vector y was passed when a 1d array was expected. Please change the shape of y to (n_samples,), for example using ravel().\n",
      "  return self._fit(X, y)\n",
      "C:\\Users\\AYUSH GUPTA\\anaconda3-NEW\\lib\\site-packages\\sklearn\\neighbors\\_classification.py:200: DataConversionWarning: A column-vector y was passed when a 1d array was expected. Please change the shape of y to (n_samples,), for example using ravel().\n",
      "  return self._fit(X, y)\n",
      "C:\\Users\\AYUSH GUPTA\\anaconda3-NEW\\lib\\site-packages\\sklearn\\neighbors\\_classification.py:200: DataConversionWarning: A column-vector y was passed when a 1d array was expected. Please change the shape of y to (n_samples,), for example using ravel().\n",
      "  return self._fit(X, y)\n",
      "C:\\Users\\AYUSH GUPTA\\anaconda3-NEW\\lib\\site-packages\\sklearn\\neighbors\\_classification.py:200: DataConversionWarning: A column-vector y was passed when a 1d array was expected. Please change the shape of y to (n_samples,), for example using ravel().\n",
      "  return self._fit(X, y)\n",
      "C:\\Users\\AYUSH GUPTA\\anaconda3-NEW\\lib\\site-packages\\sklearn\\neighbors\\_classification.py:200: DataConversionWarning: A column-vector y was passed when a 1d array was expected. Please change the shape of y to (n_samples,), for example using ravel().\n",
      "  return self._fit(X, y)\n",
      "C:\\Users\\AYUSH GUPTA\\anaconda3-NEW\\lib\\site-packages\\sklearn\\neighbors\\_classification.py:200: DataConversionWarning: A column-vector y was passed when a 1d array was expected. Please change the shape of y to (n_samples,), for example using ravel().\n",
      "  return self._fit(X, y)\n",
      "C:\\Users\\AYUSH GUPTA\\anaconda3-NEW\\lib\\site-packages\\sklearn\\neighbors\\_classification.py:200: DataConversionWarning: A column-vector y was passed when a 1d array was expected. Please change the shape of y to (n_samples,), for example using ravel().\n",
      "  return self._fit(X, y)\n",
      "C:\\Users\\AYUSH GUPTA\\anaconda3-NEW\\lib\\site-packages\\sklearn\\neighbors\\_classification.py:200: DataConversionWarning: A column-vector y was passed when a 1d array was expected. Please change the shape of y to (n_samples,), for example using ravel().\n",
      "  return self._fit(X, y)\n",
      "C:\\Users\\AYUSH GUPTA\\anaconda3-NEW\\lib\\site-packages\\sklearn\\neighbors\\_classification.py:200: DataConversionWarning: A column-vector y was passed when a 1d array was expected. Please change the shape of y to (n_samples,), for example using ravel().\n",
      "  return self._fit(X, y)\n",
      "C:\\Users\\AYUSH GUPTA\\anaconda3-NEW\\lib\\site-packages\\sklearn\\neighbors\\_classification.py:200: DataConversionWarning: A column-vector y was passed when a 1d array was expected. Please change the shape of y to (n_samples,), for example using ravel().\n",
      "  return self._fit(X, y)\n",
      "C:\\Users\\AYUSH GUPTA\\anaconda3-NEW\\lib\\site-packages\\sklearn\\neighbors\\_classification.py:200: DataConversionWarning: A column-vector y was passed when a 1d array was expected. Please change the shape of y to (n_samples,), for example using ravel().\n",
      "  return self._fit(X, y)\n",
      "C:\\Users\\AYUSH GUPTA\\anaconda3-NEW\\lib\\site-packages\\sklearn\\neighbors\\_classification.py:200: DataConversionWarning: A column-vector y was passed when a 1d array was expected. Please change the shape of y to (n_samples,), for example using ravel().\n",
      "  return self._fit(X, y)\n",
      "C:\\Users\\AYUSH GUPTA\\anaconda3-NEW\\lib\\site-packages\\sklearn\\neighbors\\_classification.py:200: DataConversionWarning: A column-vector y was passed when a 1d array was expected. Please change the shape of y to (n_samples,), for example using ravel().\n",
      "  return self._fit(X, y)\n",
      "C:\\Users\\AYUSH GUPTA\\anaconda3-NEW\\lib\\site-packages\\sklearn\\neighbors\\_classification.py:200: DataConversionWarning: A column-vector y was passed when a 1d array was expected. Please change the shape of y to (n_samples,), for example using ravel().\n",
      "  return self._fit(X, y)\n",
      "C:\\Users\\AYUSH GUPTA\\anaconda3-NEW\\lib\\site-packages\\sklearn\\neighbors\\_classification.py:200: DataConversionWarning: A column-vector y was passed when a 1d array was expected. Please change the shape of y to (n_samples,), for example using ravel().\n",
      "  return self._fit(X, y)\n",
      "C:\\Users\\AYUSH GUPTA\\anaconda3-NEW\\lib\\site-packages\\sklearn\\neighbors\\_classification.py:200: DataConversionWarning: A column-vector y was passed when a 1d array was expected. Please change the shape of y to (n_samples,), for example using ravel().\n",
      "  return self._fit(X, y)\n",
      "C:\\Users\\AYUSH GUPTA\\anaconda3-NEW\\lib\\site-packages\\sklearn\\neighbors\\_classification.py:200: DataConversionWarning: A column-vector y was passed when a 1d array was expected. Please change the shape of y to (n_samples,), for example using ravel().\n",
      "  return self._fit(X, y)\n",
      "C:\\Users\\AYUSH GUPTA\\anaconda3-NEW\\lib\\site-packages\\sklearn\\neighbors\\_classification.py:200: DataConversionWarning: A column-vector y was passed when a 1d array was expected. Please change the shape of y to (n_samples,), for example using ravel().\n",
      "  return self._fit(X, y)\n"
     ]
    },
    {
     "name": "stderr",
     "output_type": "stream",
     "text": [
      "C:\\Users\\AYUSH GUPTA\\anaconda3-NEW\\lib\\site-packages\\sklearn\\neighbors\\_classification.py:200: DataConversionWarning: A column-vector y was passed when a 1d array was expected. Please change the shape of y to (n_samples,), for example using ravel().\n",
      "  return self._fit(X, y)\n",
      "C:\\Users\\AYUSH GUPTA\\anaconda3-NEW\\lib\\site-packages\\sklearn\\neighbors\\_classification.py:200: DataConversionWarning: A column-vector y was passed when a 1d array was expected. Please change the shape of y to (n_samples,), for example using ravel().\n",
      "  return self._fit(X, y)\n",
      "C:\\Users\\AYUSH GUPTA\\anaconda3-NEW\\lib\\site-packages\\sklearn\\neighbors\\_classification.py:200: DataConversionWarning: A column-vector y was passed when a 1d array was expected. Please change the shape of y to (n_samples,), for example using ravel().\n",
      "  return self._fit(X, y)\n",
      "C:\\Users\\AYUSH GUPTA\\anaconda3-NEW\\lib\\site-packages\\sklearn\\neighbors\\_classification.py:200: DataConversionWarning: A column-vector y was passed when a 1d array was expected. Please change the shape of y to (n_samples,), for example using ravel().\n",
      "  return self._fit(X, y)\n",
      "C:\\Users\\AYUSH GUPTA\\anaconda3-NEW\\lib\\site-packages\\sklearn\\neighbors\\_classification.py:200: DataConversionWarning: A column-vector y was passed when a 1d array was expected. Please change the shape of y to (n_samples,), for example using ravel().\n",
      "  return self._fit(X, y)\n",
      "C:\\Users\\AYUSH GUPTA\\anaconda3-NEW\\lib\\site-packages\\sklearn\\neighbors\\_classification.py:200: DataConversionWarning: A column-vector y was passed when a 1d array was expected. Please change the shape of y to (n_samples,), for example using ravel().\n",
      "  return self._fit(X, y)\n",
      "C:\\Users\\AYUSH GUPTA\\anaconda3-NEW\\lib\\site-packages\\sklearn\\neighbors\\_classification.py:200: DataConversionWarning: A column-vector y was passed when a 1d array was expected. Please change the shape of y to (n_samples,), for example using ravel().\n",
      "  return self._fit(X, y)\n",
      "[Parallel(n_jobs=1)]: Done   8 out of   8 | elapsed:    1.8s finished\n",
      "\n",
      "[2022-06-09 19:13:45] Features: 1/5 -- score: 1.0[Parallel(n_jobs=1)]: Using backend SequentialBackend with 1 concurrent workers.\n",
      "C:\\Users\\AYUSH GUPTA\\anaconda3-NEW\\lib\\site-packages\\sklearn\\neighbors\\_classification.py:200: DataConversionWarning: A column-vector y was passed when a 1d array was expected. Please change the shape of y to (n_samples,), for example using ravel().\n",
      "  return self._fit(X, y)\n",
      "C:\\Users\\AYUSH GUPTA\\anaconda3-NEW\\lib\\site-packages\\sklearn\\neighbors\\_classification.py:200: DataConversionWarning: A column-vector y was passed when a 1d array was expected. Please change the shape of y to (n_samples,), for example using ravel().\n",
      "  return self._fit(X, y)\n",
      "C:\\Users\\AYUSH GUPTA\\anaconda3-NEW\\lib\\site-packages\\sklearn\\neighbors\\_classification.py:200: DataConversionWarning: A column-vector y was passed when a 1d array was expected. Please change the shape of y to (n_samples,), for example using ravel().\n",
      "  return self._fit(X, y)\n",
      "C:\\Users\\AYUSH GUPTA\\anaconda3-NEW\\lib\\site-packages\\sklearn\\neighbors\\_classification.py:200: DataConversionWarning: A column-vector y was passed when a 1d array was expected. Please change the shape of y to (n_samples,), for example using ravel().\n",
      "  return self._fit(X, y)\n",
      "C:\\Users\\AYUSH GUPTA\\anaconda3-NEW\\lib\\site-packages\\sklearn\\neighbors\\_classification.py:200: DataConversionWarning: A column-vector y was passed when a 1d array was expected. Please change the shape of y to (n_samples,), for example using ravel().\n",
      "  return self._fit(X, y)\n",
      "[Parallel(n_jobs=1)]: Done   1 out of   1 | elapsed:    0.1s remaining:    0.0s\n",
      "C:\\Users\\AYUSH GUPTA\\anaconda3-NEW\\lib\\site-packages\\sklearn\\neighbors\\_classification.py:200: DataConversionWarning: A column-vector y was passed when a 1d array was expected. Please change the shape of y to (n_samples,), for example using ravel().\n",
      "  return self._fit(X, y)\n",
      "C:\\Users\\AYUSH GUPTA\\anaconda3-NEW\\lib\\site-packages\\sklearn\\neighbors\\_classification.py:200: DataConversionWarning: A column-vector y was passed when a 1d array was expected. Please change the shape of y to (n_samples,), for example using ravel().\n",
      "  return self._fit(X, y)\n",
      "C:\\Users\\AYUSH GUPTA\\anaconda3-NEW\\lib\\site-packages\\sklearn\\neighbors\\_classification.py:200: DataConversionWarning: A column-vector y was passed when a 1d array was expected. Please change the shape of y to (n_samples,), for example using ravel().\n",
      "  return self._fit(X, y)\n",
      "C:\\Users\\AYUSH GUPTA\\anaconda3-NEW\\lib\\site-packages\\sklearn\\neighbors\\_classification.py:200: DataConversionWarning: A column-vector y was passed when a 1d array was expected. Please change the shape of y to (n_samples,), for example using ravel().\n",
      "  return self._fit(X, y)\n",
      "C:\\Users\\AYUSH GUPTA\\anaconda3-NEW\\lib\\site-packages\\sklearn\\neighbors\\_classification.py:200: DataConversionWarning: A column-vector y was passed when a 1d array was expected. Please change the shape of y to (n_samples,), for example using ravel().\n",
      "  return self._fit(X, y)\n",
      "C:\\Users\\AYUSH GUPTA\\anaconda3-NEW\\lib\\site-packages\\sklearn\\neighbors\\_classification.py:200: DataConversionWarning: A column-vector y was passed when a 1d array was expected. Please change the shape of y to (n_samples,), for example using ravel().\n",
      "  return self._fit(X, y)\n",
      "C:\\Users\\AYUSH GUPTA\\anaconda3-NEW\\lib\\site-packages\\sklearn\\neighbors\\_classification.py:200: DataConversionWarning: A column-vector y was passed when a 1d array was expected. Please change the shape of y to (n_samples,), for example using ravel().\n",
      "  return self._fit(X, y)\n",
      "C:\\Users\\AYUSH GUPTA\\anaconda3-NEW\\lib\\site-packages\\sklearn\\neighbors\\_classification.py:200: DataConversionWarning: A column-vector y was passed when a 1d array was expected. Please change the shape of y to (n_samples,), for example using ravel().\n",
      "  return self._fit(X, y)\n",
      "C:\\Users\\AYUSH GUPTA\\anaconda3-NEW\\lib\\site-packages\\sklearn\\neighbors\\_classification.py:200: DataConversionWarning: A column-vector y was passed when a 1d array was expected. Please change the shape of y to (n_samples,), for example using ravel().\n",
      "  return self._fit(X, y)\n",
      "C:\\Users\\AYUSH GUPTA\\anaconda3-NEW\\lib\\site-packages\\sklearn\\neighbors\\_classification.py:200: DataConversionWarning: A column-vector y was passed when a 1d array was expected. Please change the shape of y to (n_samples,), for example using ravel().\n",
      "  return self._fit(X, y)\n",
      "C:\\Users\\AYUSH GUPTA\\anaconda3-NEW\\lib\\site-packages\\sklearn\\neighbors\\_classification.py:200: DataConversionWarning: A column-vector y was passed when a 1d array was expected. Please change the shape of y to (n_samples,), for example using ravel().\n",
      "  return self._fit(X, y)\n",
      "C:\\Users\\AYUSH GUPTA\\anaconda3-NEW\\lib\\site-packages\\sklearn\\neighbors\\_classification.py:200: DataConversionWarning: A column-vector y was passed when a 1d array was expected. Please change the shape of y to (n_samples,), for example using ravel().\n",
      "  return self._fit(X, y)\n",
      "C:\\Users\\AYUSH GUPTA\\anaconda3-NEW\\lib\\site-packages\\sklearn\\neighbors\\_classification.py:200: DataConversionWarning: A column-vector y was passed when a 1d array was expected. Please change the shape of y to (n_samples,), for example using ravel().\n",
      "  return self._fit(X, y)\n",
      "C:\\Users\\AYUSH GUPTA\\anaconda3-NEW\\lib\\site-packages\\sklearn\\neighbors\\_classification.py:200: DataConversionWarning: A column-vector y was passed when a 1d array was expected. Please change the shape of y to (n_samples,), for example using ravel().\n",
      "  return self._fit(X, y)\n",
      "C:\\Users\\AYUSH GUPTA\\anaconda3-NEW\\lib\\site-packages\\sklearn\\neighbors\\_classification.py:200: DataConversionWarning: A column-vector y was passed when a 1d array was expected. Please change the shape of y to (n_samples,), for example using ravel().\n",
      "  return self._fit(X, y)\n",
      "C:\\Users\\AYUSH GUPTA\\anaconda3-NEW\\lib\\site-packages\\sklearn\\neighbors\\_classification.py:200: DataConversionWarning: A column-vector y was passed when a 1d array was expected. Please change the shape of y to (n_samples,), for example using ravel().\n",
      "  return self._fit(X, y)\n",
      "C:\\Users\\AYUSH GUPTA\\anaconda3-NEW\\lib\\site-packages\\sklearn\\neighbors\\_classification.py:200: DataConversionWarning: A column-vector y was passed when a 1d array was expected. Please change the shape of y to (n_samples,), for example using ravel().\n",
      "  return self._fit(X, y)\n",
      "C:\\Users\\AYUSH GUPTA\\anaconda3-NEW\\lib\\site-packages\\sklearn\\neighbors\\_classification.py:200: DataConversionWarning: A column-vector y was passed when a 1d array was expected. Please change the shape of y to (n_samples,), for example using ravel().\n",
      "  return self._fit(X, y)\n",
      "C:\\Users\\AYUSH GUPTA\\anaconda3-NEW\\lib\\site-packages\\sklearn\\neighbors\\_classification.py:200: DataConversionWarning: A column-vector y was passed when a 1d array was expected. Please change the shape of y to (n_samples,), for example using ravel().\n",
      "  return self._fit(X, y)\n",
      "C:\\Users\\AYUSH GUPTA\\anaconda3-NEW\\lib\\site-packages\\sklearn\\neighbors\\_classification.py:200: DataConversionWarning: A column-vector y was passed when a 1d array was expected. Please change the shape of y to (n_samples,), for example using ravel().\n",
      "  return self._fit(X, y)\n"
     ]
    },
    {
     "name": "stderr",
     "output_type": "stream",
     "text": [
      "C:\\Users\\AYUSH GUPTA\\anaconda3-NEW\\lib\\site-packages\\sklearn\\neighbors\\_classification.py:200: DataConversionWarning: A column-vector y was passed when a 1d array was expected. Please change the shape of y to (n_samples,), for example using ravel().\n",
      "  return self._fit(X, y)\n",
      "C:\\Users\\AYUSH GUPTA\\anaconda3-NEW\\lib\\site-packages\\sklearn\\neighbors\\_classification.py:200: DataConversionWarning: A column-vector y was passed when a 1d array was expected. Please change the shape of y to (n_samples,), for example using ravel().\n",
      "  return self._fit(X, y)\n",
      "C:\\Users\\AYUSH GUPTA\\anaconda3-NEW\\lib\\site-packages\\sklearn\\neighbors\\_classification.py:200: DataConversionWarning: A column-vector y was passed when a 1d array was expected. Please change the shape of y to (n_samples,), for example using ravel().\n",
      "  return self._fit(X, y)\n",
      "C:\\Users\\AYUSH GUPTA\\anaconda3-NEW\\lib\\site-packages\\sklearn\\neighbors\\_classification.py:200: DataConversionWarning: A column-vector y was passed when a 1d array was expected. Please change the shape of y to (n_samples,), for example using ravel().\n",
      "  return self._fit(X, y)\n",
      "C:\\Users\\AYUSH GUPTA\\anaconda3-NEW\\lib\\site-packages\\sklearn\\neighbors\\_classification.py:200: DataConversionWarning: A column-vector y was passed when a 1d array was expected. Please change the shape of y to (n_samples,), for example using ravel().\n",
      "  return self._fit(X, y)\n",
      "C:\\Users\\AYUSH GUPTA\\anaconda3-NEW\\lib\\site-packages\\sklearn\\neighbors\\_classification.py:200: DataConversionWarning: A column-vector y was passed when a 1d array was expected. Please change the shape of y to (n_samples,), for example using ravel().\n",
      "  return self._fit(X, y)\n",
      "C:\\Users\\AYUSH GUPTA\\anaconda3-NEW\\lib\\site-packages\\sklearn\\neighbors\\_classification.py:200: DataConversionWarning: A column-vector y was passed when a 1d array was expected. Please change the shape of y to (n_samples,), for example using ravel().\n",
      "  return self._fit(X, y)\n",
      "C:\\Users\\AYUSH GUPTA\\anaconda3-NEW\\lib\\site-packages\\sklearn\\neighbors\\_classification.py:200: DataConversionWarning: A column-vector y was passed when a 1d array was expected. Please change the shape of y to (n_samples,), for example using ravel().\n",
      "  return self._fit(X, y)\n",
      "C:\\Users\\AYUSH GUPTA\\anaconda3-NEW\\lib\\site-packages\\sklearn\\neighbors\\_classification.py:200: DataConversionWarning: A column-vector y was passed when a 1d array was expected. Please change the shape of y to (n_samples,), for example using ravel().\n",
      "  return self._fit(X, y)\n",
      "C:\\Users\\AYUSH GUPTA\\anaconda3-NEW\\lib\\site-packages\\sklearn\\neighbors\\_classification.py:200: DataConversionWarning: A column-vector y was passed when a 1d array was expected. Please change the shape of y to (n_samples,), for example using ravel().\n",
      "  return self._fit(X, y)\n",
      "[Parallel(n_jobs=1)]: Done   7 out of   7 | elapsed:    1.4s finished\n",
      "\n",
      "[2022-06-09 19:13:46] Features: 2/5 -- score: 1.0[Parallel(n_jobs=1)]: Using backend SequentialBackend with 1 concurrent workers.\n",
      "C:\\Users\\AYUSH GUPTA\\anaconda3-NEW\\lib\\site-packages\\sklearn\\neighbors\\_classification.py:200: DataConversionWarning: A column-vector y was passed when a 1d array was expected. Please change the shape of y to (n_samples,), for example using ravel().\n",
      "  return self._fit(X, y)\n",
      "C:\\Users\\AYUSH GUPTA\\anaconda3-NEW\\lib\\site-packages\\sklearn\\neighbors\\_classification.py:200: DataConversionWarning: A column-vector y was passed when a 1d array was expected. Please change the shape of y to (n_samples,), for example using ravel().\n",
      "  return self._fit(X, y)\n",
      "C:\\Users\\AYUSH GUPTA\\anaconda3-NEW\\lib\\site-packages\\sklearn\\neighbors\\_classification.py:200: DataConversionWarning: A column-vector y was passed when a 1d array was expected. Please change the shape of y to (n_samples,), for example using ravel().\n",
      "  return self._fit(X, y)\n",
      "C:\\Users\\AYUSH GUPTA\\anaconda3-NEW\\lib\\site-packages\\sklearn\\neighbors\\_classification.py:200: DataConversionWarning: A column-vector y was passed when a 1d array was expected. Please change the shape of y to (n_samples,), for example using ravel().\n",
      "  return self._fit(X, y)\n",
      "C:\\Users\\AYUSH GUPTA\\anaconda3-NEW\\lib\\site-packages\\sklearn\\neighbors\\_classification.py:200: DataConversionWarning: A column-vector y was passed when a 1d array was expected. Please change the shape of y to (n_samples,), for example using ravel().\n",
      "  return self._fit(X, y)\n",
      "[Parallel(n_jobs=1)]: Done   1 out of   1 | elapsed:    0.1s remaining:    0.0s\n",
      "C:\\Users\\AYUSH GUPTA\\anaconda3-NEW\\lib\\site-packages\\sklearn\\neighbors\\_classification.py:200: DataConversionWarning: A column-vector y was passed when a 1d array was expected. Please change the shape of y to (n_samples,), for example using ravel().\n",
      "  return self._fit(X, y)\n",
      "C:\\Users\\AYUSH GUPTA\\anaconda3-NEW\\lib\\site-packages\\sklearn\\neighbors\\_classification.py:200: DataConversionWarning: A column-vector y was passed when a 1d array was expected. Please change the shape of y to (n_samples,), for example using ravel().\n",
      "  return self._fit(X, y)\n",
      "C:\\Users\\AYUSH GUPTA\\anaconda3-NEW\\lib\\site-packages\\sklearn\\neighbors\\_classification.py:200: DataConversionWarning: A column-vector y was passed when a 1d array was expected. Please change the shape of y to (n_samples,), for example using ravel().\n",
      "  return self._fit(X, y)\n",
      "C:\\Users\\AYUSH GUPTA\\anaconda3-NEW\\lib\\site-packages\\sklearn\\neighbors\\_classification.py:200: DataConversionWarning: A column-vector y was passed when a 1d array was expected. Please change the shape of y to (n_samples,), for example using ravel().\n",
      "  return self._fit(X, y)\n",
      "C:\\Users\\AYUSH GUPTA\\anaconda3-NEW\\lib\\site-packages\\sklearn\\neighbors\\_classification.py:200: DataConversionWarning: A column-vector y was passed when a 1d array was expected. Please change the shape of y to (n_samples,), for example using ravel().\n",
      "  return self._fit(X, y)\n",
      "C:\\Users\\AYUSH GUPTA\\anaconda3-NEW\\lib\\site-packages\\sklearn\\neighbors\\_classification.py:200: DataConversionWarning: A column-vector y was passed when a 1d array was expected. Please change the shape of y to (n_samples,), for example using ravel().\n",
      "  return self._fit(X, y)\n",
      "C:\\Users\\AYUSH GUPTA\\anaconda3-NEW\\lib\\site-packages\\sklearn\\neighbors\\_classification.py:200: DataConversionWarning: A column-vector y was passed when a 1d array was expected. Please change the shape of y to (n_samples,), for example using ravel().\n",
      "  return self._fit(X, y)\n",
      "C:\\Users\\AYUSH GUPTA\\anaconda3-NEW\\lib\\site-packages\\sklearn\\neighbors\\_classification.py:200: DataConversionWarning: A column-vector y was passed when a 1d array was expected. Please change the shape of y to (n_samples,), for example using ravel().\n",
      "  return self._fit(X, y)\n",
      "C:\\Users\\AYUSH GUPTA\\anaconda3-NEW\\lib\\site-packages\\sklearn\\neighbors\\_classification.py:200: DataConversionWarning: A column-vector y was passed when a 1d array was expected. Please change the shape of y to (n_samples,), for example using ravel().\n",
      "  return self._fit(X, y)\n",
      "C:\\Users\\AYUSH GUPTA\\anaconda3-NEW\\lib\\site-packages\\sklearn\\neighbors\\_classification.py:200: DataConversionWarning: A column-vector y was passed when a 1d array was expected. Please change the shape of y to (n_samples,), for example using ravel().\n",
      "  return self._fit(X, y)\n",
      "C:\\Users\\AYUSH GUPTA\\anaconda3-NEW\\lib\\site-packages\\sklearn\\neighbors\\_classification.py:200: DataConversionWarning: A column-vector y was passed when a 1d array was expected. Please change the shape of y to (n_samples,), for example using ravel().\n",
      "  return self._fit(X, y)\n",
      "C:\\Users\\AYUSH GUPTA\\anaconda3-NEW\\lib\\site-packages\\sklearn\\neighbors\\_classification.py:200: DataConversionWarning: A column-vector y was passed when a 1d array was expected. Please change the shape of y to (n_samples,), for example using ravel().\n",
      "  return self._fit(X, y)\n",
      "C:\\Users\\AYUSH GUPTA\\anaconda3-NEW\\lib\\site-packages\\sklearn\\neighbors\\_classification.py:200: DataConversionWarning: A column-vector y was passed when a 1d array was expected. Please change the shape of y to (n_samples,), for example using ravel().\n",
      "  return self._fit(X, y)\n",
      "C:\\Users\\AYUSH GUPTA\\anaconda3-NEW\\lib\\site-packages\\sklearn\\neighbors\\_classification.py:200: DataConversionWarning: A column-vector y was passed when a 1d array was expected. Please change the shape of y to (n_samples,), for example using ravel().\n",
      "  return self._fit(X, y)\n",
      "C:\\Users\\AYUSH GUPTA\\anaconda3-NEW\\lib\\site-packages\\sklearn\\neighbors\\_classification.py:200: DataConversionWarning: A column-vector y was passed when a 1d array was expected. Please change the shape of y to (n_samples,), for example using ravel().\n",
      "  return self._fit(X, y)\n",
      "C:\\Users\\AYUSH GUPTA\\anaconda3-NEW\\lib\\site-packages\\sklearn\\neighbors\\_classification.py:200: DataConversionWarning: A column-vector y was passed when a 1d array was expected. Please change the shape of y to (n_samples,), for example using ravel().\n",
      "  return self._fit(X, y)\n",
      "C:\\Users\\AYUSH GUPTA\\anaconda3-NEW\\lib\\site-packages\\sklearn\\neighbors\\_classification.py:200: DataConversionWarning: A column-vector y was passed when a 1d array was expected. Please change the shape of y to (n_samples,), for example using ravel().\n",
      "  return self._fit(X, y)\n"
     ]
    },
    {
     "name": "stderr",
     "output_type": "stream",
     "text": [
      "C:\\Users\\AYUSH GUPTA\\anaconda3-NEW\\lib\\site-packages\\sklearn\\neighbors\\_classification.py:200: DataConversionWarning: A column-vector y was passed when a 1d array was expected. Please change the shape of y to (n_samples,), for example using ravel().\n",
      "  return self._fit(X, y)\n",
      "C:\\Users\\AYUSH GUPTA\\anaconda3-NEW\\lib\\site-packages\\sklearn\\neighbors\\_classification.py:200: DataConversionWarning: A column-vector y was passed when a 1d array was expected. Please change the shape of y to (n_samples,), for example using ravel().\n",
      "  return self._fit(X, y)\n",
      "C:\\Users\\AYUSH GUPTA\\anaconda3-NEW\\lib\\site-packages\\sklearn\\neighbors\\_classification.py:200: DataConversionWarning: A column-vector y was passed when a 1d array was expected. Please change the shape of y to (n_samples,), for example using ravel().\n",
      "  return self._fit(X, y)\n",
      "C:\\Users\\AYUSH GUPTA\\anaconda3-NEW\\lib\\site-packages\\sklearn\\neighbors\\_classification.py:200: DataConversionWarning: A column-vector y was passed when a 1d array was expected. Please change the shape of y to (n_samples,), for example using ravel().\n",
      "  return self._fit(X, y)\n",
      "C:\\Users\\AYUSH GUPTA\\anaconda3-NEW\\lib\\site-packages\\sklearn\\neighbors\\_classification.py:200: DataConversionWarning: A column-vector y was passed when a 1d array was expected. Please change the shape of y to (n_samples,), for example using ravel().\n",
      "  return self._fit(X, y)\n",
      "C:\\Users\\AYUSH GUPTA\\anaconda3-NEW\\lib\\site-packages\\sklearn\\neighbors\\_classification.py:200: DataConversionWarning: A column-vector y was passed when a 1d array was expected. Please change the shape of y to (n_samples,), for example using ravel().\n",
      "  return self._fit(X, y)\n",
      "C:\\Users\\AYUSH GUPTA\\anaconda3-NEW\\lib\\site-packages\\sklearn\\neighbors\\_classification.py:200: DataConversionWarning: A column-vector y was passed when a 1d array was expected. Please change the shape of y to (n_samples,), for example using ravel().\n",
      "  return self._fit(X, y)\n",
      "C:\\Users\\AYUSH GUPTA\\anaconda3-NEW\\lib\\site-packages\\sklearn\\neighbors\\_classification.py:200: DataConversionWarning: A column-vector y was passed when a 1d array was expected. Please change the shape of y to (n_samples,), for example using ravel().\n",
      "  return self._fit(X, y)\n",
      "[Parallel(n_jobs=1)]: Done   6 out of   6 | elapsed:    1.0s finished\n",
      "\n",
      "[2022-06-09 19:13:47] Features: 3/5 -- score: 1.0[Parallel(n_jobs=1)]: Using backend SequentialBackend with 1 concurrent workers.\n",
      "C:\\Users\\AYUSH GUPTA\\anaconda3-NEW\\lib\\site-packages\\sklearn\\neighbors\\_classification.py:200: DataConversionWarning: A column-vector y was passed when a 1d array was expected. Please change the shape of y to (n_samples,), for example using ravel().\n",
      "  return self._fit(X, y)\n",
      "C:\\Users\\AYUSH GUPTA\\anaconda3-NEW\\lib\\site-packages\\sklearn\\neighbors\\_classification.py:200: DataConversionWarning: A column-vector y was passed when a 1d array was expected. Please change the shape of y to (n_samples,), for example using ravel().\n",
      "  return self._fit(X, y)\n",
      "C:\\Users\\AYUSH GUPTA\\anaconda3-NEW\\lib\\site-packages\\sklearn\\neighbors\\_classification.py:200: DataConversionWarning: A column-vector y was passed when a 1d array was expected. Please change the shape of y to (n_samples,), for example using ravel().\n",
      "  return self._fit(X, y)\n",
      "C:\\Users\\AYUSH GUPTA\\anaconda3-NEW\\lib\\site-packages\\sklearn\\neighbors\\_classification.py:200: DataConversionWarning: A column-vector y was passed when a 1d array was expected. Please change the shape of y to (n_samples,), for example using ravel().\n",
      "  return self._fit(X, y)\n",
      "C:\\Users\\AYUSH GUPTA\\anaconda3-NEW\\lib\\site-packages\\sklearn\\neighbors\\_classification.py:200: DataConversionWarning: A column-vector y was passed when a 1d array was expected. Please change the shape of y to (n_samples,), for example using ravel().\n",
      "  return self._fit(X, y)\n",
      "[Parallel(n_jobs=1)]: Done   1 out of   1 | elapsed:    0.1s remaining:    0.0s\n",
      "C:\\Users\\AYUSH GUPTA\\anaconda3-NEW\\lib\\site-packages\\sklearn\\neighbors\\_classification.py:200: DataConversionWarning: A column-vector y was passed when a 1d array was expected. Please change the shape of y to (n_samples,), for example using ravel().\n",
      "  return self._fit(X, y)\n",
      "C:\\Users\\AYUSH GUPTA\\anaconda3-NEW\\lib\\site-packages\\sklearn\\neighbors\\_classification.py:200: DataConversionWarning: A column-vector y was passed when a 1d array was expected. Please change the shape of y to (n_samples,), for example using ravel().\n",
      "  return self._fit(X, y)\n",
      "C:\\Users\\AYUSH GUPTA\\anaconda3-NEW\\lib\\site-packages\\sklearn\\neighbors\\_classification.py:200: DataConversionWarning: A column-vector y was passed when a 1d array was expected. Please change the shape of y to (n_samples,), for example using ravel().\n",
      "  return self._fit(X, y)\n",
      "C:\\Users\\AYUSH GUPTA\\anaconda3-NEW\\lib\\site-packages\\sklearn\\neighbors\\_classification.py:200: DataConversionWarning: A column-vector y was passed when a 1d array was expected. Please change the shape of y to (n_samples,), for example using ravel().\n",
      "  return self._fit(X, y)\n",
      "C:\\Users\\AYUSH GUPTA\\anaconda3-NEW\\lib\\site-packages\\sklearn\\neighbors\\_classification.py:200: DataConversionWarning: A column-vector y was passed when a 1d array was expected. Please change the shape of y to (n_samples,), for example using ravel().\n",
      "  return self._fit(X, y)\n",
      "C:\\Users\\AYUSH GUPTA\\anaconda3-NEW\\lib\\site-packages\\sklearn\\neighbors\\_classification.py:200: DataConversionWarning: A column-vector y was passed when a 1d array was expected. Please change the shape of y to (n_samples,), for example using ravel().\n",
      "  return self._fit(X, y)\n",
      "C:\\Users\\AYUSH GUPTA\\anaconda3-NEW\\lib\\site-packages\\sklearn\\neighbors\\_classification.py:200: DataConversionWarning: A column-vector y was passed when a 1d array was expected. Please change the shape of y to (n_samples,), for example using ravel().\n",
      "  return self._fit(X, y)\n",
      "C:\\Users\\AYUSH GUPTA\\anaconda3-NEW\\lib\\site-packages\\sklearn\\neighbors\\_classification.py:200: DataConversionWarning: A column-vector y was passed when a 1d array was expected. Please change the shape of y to (n_samples,), for example using ravel().\n",
      "  return self._fit(X, y)\n",
      "C:\\Users\\AYUSH GUPTA\\anaconda3-NEW\\lib\\site-packages\\sklearn\\neighbors\\_classification.py:200: DataConversionWarning: A column-vector y was passed when a 1d array was expected. Please change the shape of y to (n_samples,), for example using ravel().\n",
      "  return self._fit(X, y)\n",
      "C:\\Users\\AYUSH GUPTA\\anaconda3-NEW\\lib\\site-packages\\sklearn\\neighbors\\_classification.py:200: DataConversionWarning: A column-vector y was passed when a 1d array was expected. Please change the shape of y to (n_samples,), for example using ravel().\n",
      "  return self._fit(X, y)\n",
      "C:\\Users\\AYUSH GUPTA\\anaconda3-NEW\\lib\\site-packages\\sklearn\\neighbors\\_classification.py:200: DataConversionWarning: A column-vector y was passed when a 1d array was expected. Please change the shape of y to (n_samples,), for example using ravel().\n",
      "  return self._fit(X, y)\n",
      "C:\\Users\\AYUSH GUPTA\\anaconda3-NEW\\lib\\site-packages\\sklearn\\neighbors\\_classification.py:200: DataConversionWarning: A column-vector y was passed when a 1d array was expected. Please change the shape of y to (n_samples,), for example using ravel().\n",
      "  return self._fit(X, y)\n",
      "C:\\Users\\AYUSH GUPTA\\anaconda3-NEW\\lib\\site-packages\\sklearn\\neighbors\\_classification.py:200: DataConversionWarning: A column-vector y was passed when a 1d array was expected. Please change the shape of y to (n_samples,), for example using ravel().\n",
      "  return self._fit(X, y)\n",
      "C:\\Users\\AYUSH GUPTA\\anaconda3-NEW\\lib\\site-packages\\sklearn\\neighbors\\_classification.py:200: DataConversionWarning: A column-vector y was passed when a 1d array was expected. Please change the shape of y to (n_samples,), for example using ravel().\n",
      "  return self._fit(X, y)\n",
      "C:\\Users\\AYUSH GUPTA\\anaconda3-NEW\\lib\\site-packages\\sklearn\\neighbors\\_classification.py:200: DataConversionWarning: A column-vector y was passed when a 1d array was expected. Please change the shape of y to (n_samples,), for example using ravel().\n",
      "  return self._fit(X, y)\n",
      "C:\\Users\\AYUSH GUPTA\\anaconda3-NEW\\lib\\site-packages\\sklearn\\neighbors\\_classification.py:200: DataConversionWarning: A column-vector y was passed when a 1d array was expected. Please change the shape of y to (n_samples,), for example using ravel().\n",
      "  return self._fit(X, y)\n",
      "C:\\Users\\AYUSH GUPTA\\anaconda3-NEW\\lib\\site-packages\\sklearn\\neighbors\\_classification.py:200: DataConversionWarning: A column-vector y was passed when a 1d array was expected. Please change the shape of y to (n_samples,), for example using ravel().\n",
      "  return self._fit(X, y)\n",
      "C:\\Users\\AYUSH GUPTA\\anaconda3-NEW\\lib\\site-packages\\sklearn\\neighbors\\_classification.py:200: DataConversionWarning: A column-vector y was passed when a 1d array was expected. Please change the shape of y to (n_samples,), for example using ravel().\n",
      "  return self._fit(X, y)\n"
     ]
    },
    {
     "name": "stderr",
     "output_type": "stream",
     "text": [
      "C:\\Users\\AYUSH GUPTA\\anaconda3-NEW\\lib\\site-packages\\sklearn\\neighbors\\_classification.py:200: DataConversionWarning: A column-vector y was passed when a 1d array was expected. Please change the shape of y to (n_samples,), for example using ravel().\n",
      "  return self._fit(X, y)\n",
      "C:\\Users\\AYUSH GUPTA\\anaconda3-NEW\\lib\\site-packages\\sklearn\\neighbors\\_classification.py:200: DataConversionWarning: A column-vector y was passed when a 1d array was expected. Please change the shape of y to (n_samples,), for example using ravel().\n",
      "  return self._fit(X, y)\n",
      "[Parallel(n_jobs=1)]: Done   5 out of   5 | elapsed:    1.1s finished\n",
      "\n",
      "[2022-06-09 19:13:49] Features: 4/5 -- score: 1.0[Parallel(n_jobs=1)]: Using backend SequentialBackend with 1 concurrent workers.\n",
      "C:\\Users\\AYUSH GUPTA\\anaconda3-NEW\\lib\\site-packages\\sklearn\\neighbors\\_classification.py:200: DataConversionWarning: A column-vector y was passed when a 1d array was expected. Please change the shape of y to (n_samples,), for example using ravel().\n",
      "  return self._fit(X, y)\n",
      "C:\\Users\\AYUSH GUPTA\\anaconda3-NEW\\lib\\site-packages\\sklearn\\neighbors\\_classification.py:200: DataConversionWarning: A column-vector y was passed when a 1d array was expected. Please change the shape of y to (n_samples,), for example using ravel().\n",
      "  return self._fit(X, y)\n",
      "C:\\Users\\AYUSH GUPTA\\anaconda3-NEW\\lib\\site-packages\\sklearn\\neighbors\\_classification.py:200: DataConversionWarning: A column-vector y was passed when a 1d array was expected. Please change the shape of y to (n_samples,), for example using ravel().\n",
      "  return self._fit(X, y)\n",
      "C:\\Users\\AYUSH GUPTA\\anaconda3-NEW\\lib\\site-packages\\sklearn\\neighbors\\_classification.py:200: DataConversionWarning: A column-vector y was passed when a 1d array was expected. Please change the shape of y to (n_samples,), for example using ravel().\n",
      "  return self._fit(X, y)\n",
      "C:\\Users\\AYUSH GUPTA\\anaconda3-NEW\\lib\\site-packages\\sklearn\\neighbors\\_classification.py:200: DataConversionWarning: A column-vector y was passed when a 1d array was expected. Please change the shape of y to (n_samples,), for example using ravel().\n",
      "  return self._fit(X, y)\n",
      "[Parallel(n_jobs=1)]: Done   1 out of   1 | elapsed:    0.2s remaining:    0.0s\n",
      "C:\\Users\\AYUSH GUPTA\\anaconda3-NEW\\lib\\site-packages\\sklearn\\neighbors\\_classification.py:200: DataConversionWarning: A column-vector y was passed when a 1d array was expected. Please change the shape of y to (n_samples,), for example using ravel().\n",
      "  return self._fit(X, y)\n",
      "C:\\Users\\AYUSH GUPTA\\anaconda3-NEW\\lib\\site-packages\\sklearn\\neighbors\\_classification.py:200: DataConversionWarning: A column-vector y was passed when a 1d array was expected. Please change the shape of y to (n_samples,), for example using ravel().\n",
      "  return self._fit(X, y)\n",
      "C:\\Users\\AYUSH GUPTA\\anaconda3-NEW\\lib\\site-packages\\sklearn\\neighbors\\_classification.py:200: DataConversionWarning: A column-vector y was passed when a 1d array was expected. Please change the shape of y to (n_samples,), for example using ravel().\n",
      "  return self._fit(X, y)\n",
      "C:\\Users\\AYUSH GUPTA\\anaconda3-NEW\\lib\\site-packages\\sklearn\\neighbors\\_classification.py:200: DataConversionWarning: A column-vector y was passed when a 1d array was expected. Please change the shape of y to (n_samples,), for example using ravel().\n",
      "  return self._fit(X, y)\n",
      "C:\\Users\\AYUSH GUPTA\\anaconda3-NEW\\lib\\site-packages\\sklearn\\neighbors\\_classification.py:200: DataConversionWarning: A column-vector y was passed when a 1d array was expected. Please change the shape of y to (n_samples,), for example using ravel().\n",
      "  return self._fit(X, y)\n",
      "C:\\Users\\AYUSH GUPTA\\anaconda3-NEW\\lib\\site-packages\\sklearn\\neighbors\\_classification.py:200: DataConversionWarning: A column-vector y was passed when a 1d array was expected. Please change the shape of y to (n_samples,), for example using ravel().\n",
      "  return self._fit(X, y)\n",
      "C:\\Users\\AYUSH GUPTA\\anaconda3-NEW\\lib\\site-packages\\sklearn\\neighbors\\_classification.py:200: DataConversionWarning: A column-vector y was passed when a 1d array was expected. Please change the shape of y to (n_samples,), for example using ravel().\n",
      "  return self._fit(X, y)\n",
      "C:\\Users\\AYUSH GUPTA\\anaconda3-NEW\\lib\\site-packages\\sklearn\\neighbors\\_classification.py:200: DataConversionWarning: A column-vector y was passed when a 1d array was expected. Please change the shape of y to (n_samples,), for example using ravel().\n",
      "  return self._fit(X, y)\n",
      "C:\\Users\\AYUSH GUPTA\\anaconda3-NEW\\lib\\site-packages\\sklearn\\neighbors\\_classification.py:200: DataConversionWarning: A column-vector y was passed when a 1d array was expected. Please change the shape of y to (n_samples,), for example using ravel().\n",
      "  return self._fit(X, y)\n",
      "C:\\Users\\AYUSH GUPTA\\anaconda3-NEW\\lib\\site-packages\\sklearn\\neighbors\\_classification.py:200: DataConversionWarning: A column-vector y was passed when a 1d array was expected. Please change the shape of y to (n_samples,), for example using ravel().\n",
      "  return self._fit(X, y)\n",
      "C:\\Users\\AYUSH GUPTA\\anaconda3-NEW\\lib\\site-packages\\sklearn\\neighbors\\_classification.py:200: DataConversionWarning: A column-vector y was passed when a 1d array was expected. Please change the shape of y to (n_samples,), for example using ravel().\n",
      "  return self._fit(X, y)\n",
      "C:\\Users\\AYUSH GUPTA\\anaconda3-NEW\\lib\\site-packages\\sklearn\\neighbors\\_classification.py:200: DataConversionWarning: A column-vector y was passed when a 1d array was expected. Please change the shape of y to (n_samples,), for example using ravel().\n",
      "  return self._fit(X, y)\n",
      "C:\\Users\\AYUSH GUPTA\\anaconda3-NEW\\lib\\site-packages\\sklearn\\neighbors\\_classification.py:200: DataConversionWarning: A column-vector y was passed when a 1d array was expected. Please change the shape of y to (n_samples,), for example using ravel().\n",
      "  return self._fit(X, y)\n",
      "C:\\Users\\AYUSH GUPTA\\anaconda3-NEW\\lib\\site-packages\\sklearn\\neighbors\\_classification.py:200: DataConversionWarning: A column-vector y was passed when a 1d array was expected. Please change the shape of y to (n_samples,), for example using ravel().\n",
      "  return self._fit(X, y)\n",
      "C:\\Users\\AYUSH GUPTA\\anaconda3-NEW\\lib\\site-packages\\sklearn\\neighbors\\_classification.py:200: DataConversionWarning: A column-vector y was passed when a 1d array was expected. Please change the shape of y to (n_samples,), for example using ravel().\n",
      "  return self._fit(X, y)\n",
      "[Parallel(n_jobs=1)]: Done   4 out of   4 | elapsed:    0.9s finished\n",
      "\n",
      "[2022-06-09 19:13:50] Features: 5/5 -- score: 1.0"
     ]
    },
    {
     "data": {
      "text/plain": [
       "{1: {'feature_idx': (0,),\n",
       "  'cv_scores': array([1., 1., 1., 1., 1.]),\n",
       "  'avg_score': 1.0,\n",
       "  'feature_names': ('RATINGS',)},\n",
       " 2: {'feature_idx': (0, 2),\n",
       "  'cv_scores': array([1., 1., 1., 1., 1.]),\n",
       "  'avg_score': 1.0,\n",
       "  'feature_names': ('RATINGS', 'NAME_Encoded')},\n",
       " 3: {'feature_idx': (0, 1, 2),\n",
       "  'cv_scores': array([1., 1., 1., 1., 1.]),\n",
       "  'avg_score': 1.0,\n",
       "  'feature_names': ('RATINGS', 'AGE_Encoded', 'NAME_Encoded')},\n",
       " 4: {'feature_idx': (0, 1, 2, 3),\n",
       "  'cv_scores': array([1., 1., 1., 1., 1.]),\n",
       "  'avg_score': 1.0,\n",
       "  'feature_names': ('RATINGS',\n",
       "   'AGE_Encoded',\n",
       "   'NAME_Encoded',\n",
       "   'COMPANY TYPE_Encoded')},\n",
       " 5: {'feature_idx': (0, 1, 2, 3, 5),\n",
       "  'cv_scores': array([1., 1., 1., 1., 1.]),\n",
       "  'avg_score': 1.0,\n",
       "  'feature_names': ('RATINGS',\n",
       "   'AGE_Encoded',\n",
       "   'NAME_Encoded',\n",
       "   'COMPANY TYPE_Encoded',\n",
       "   'REVIEWS_Encoded')}}"
      ]
     },
     "execution_count": 44,
     "metadata": {},
     "output_type": "execute_result"
    }
   ],
   "source": [
    "sfs1 = SFS(knn, \n",
    "           k_features=5, \n",
    "           forward=True, ### false will be Backward\n",
    "           floating=False, \n",
    "           verbose=2,\n",
    "           scoring='accuracy',\n",
    "           cv=5)\n",
    "\n",
    "# feature_names = ('sepal length', 'sepal width', 'petal length', 'petal width')### not necesary\n",
    "sfs1 = sfs1.fit(X, Y)\n",
    "sfs1.subsets_"
   ]
  },
  {
   "cell_type": "code",
   "execution_count": 45,
   "id": "1e0dbc25",
   "metadata": {},
   "outputs": [
    {
     "data": {
      "text/html": [
       "<div>\n",
       "<style scoped>\n",
       "    .dataframe tbody tr th:only-of-type {\n",
       "        vertical-align: middle;\n",
       "    }\n",
       "\n",
       "    .dataframe tbody tr th {\n",
       "        vertical-align: top;\n",
       "    }\n",
       "\n",
       "    .dataframe thead th {\n",
       "        text-align: right;\n",
       "    }\n",
       "</style>\n",
       "<table border=\"1\" class=\"dataframe\">\n",
       "  <thead>\n",
       "    <tr style=\"text-align: right;\">\n",
       "      <th></th>\n",
       "      <th>feature_idx</th>\n",
       "      <th>cv_scores</th>\n",
       "      <th>avg_score</th>\n",
       "      <th>feature_names</th>\n",
       "      <th>ci_bound</th>\n",
       "      <th>std_dev</th>\n",
       "      <th>std_err</th>\n",
       "    </tr>\n",
       "  </thead>\n",
       "  <tbody>\n",
       "    <tr>\n",
       "      <th>1</th>\n",
       "      <td>(0,)</td>\n",
       "      <td>[1.0, 1.0, 1.0, 1.0, 1.0]</td>\n",
       "      <td>1.0</td>\n",
       "      <td>(RATINGS,)</td>\n",
       "      <td>0.0</td>\n",
       "      <td>0.0</td>\n",
       "      <td>0.0</td>\n",
       "    </tr>\n",
       "    <tr>\n",
       "      <th>2</th>\n",
       "      <td>(0, 2)</td>\n",
       "      <td>[1.0, 1.0, 1.0, 1.0, 1.0]</td>\n",
       "      <td>1.0</td>\n",
       "      <td>(RATINGS, NAME_Encoded)</td>\n",
       "      <td>0.0</td>\n",
       "      <td>0.0</td>\n",
       "      <td>0.0</td>\n",
       "    </tr>\n",
       "    <tr>\n",
       "      <th>3</th>\n",
       "      <td>(0, 1, 2)</td>\n",
       "      <td>[1.0, 1.0, 1.0, 1.0, 1.0]</td>\n",
       "      <td>1.0</td>\n",
       "      <td>(RATINGS, AGE_Encoded, NAME_Encoded)</td>\n",
       "      <td>0.0</td>\n",
       "      <td>0.0</td>\n",
       "      <td>0.0</td>\n",
       "    </tr>\n",
       "    <tr>\n",
       "      <th>4</th>\n",
       "      <td>(0, 1, 2, 3)</td>\n",
       "      <td>[1.0, 1.0, 1.0, 1.0, 1.0]</td>\n",
       "      <td>1.0</td>\n",
       "      <td>(RATINGS, AGE_Encoded, NAME_Encoded, COMPANY T...</td>\n",
       "      <td>0.0</td>\n",
       "      <td>0.0</td>\n",
       "      <td>0.0</td>\n",
       "    </tr>\n",
       "    <tr>\n",
       "      <th>5</th>\n",
       "      <td>(0, 1, 2, 3, 5)</td>\n",
       "      <td>[1.0, 1.0, 1.0, 1.0, 1.0]</td>\n",
       "      <td>1.0</td>\n",
       "      <td>(RATINGS, AGE_Encoded, NAME_Encoded, COMPANY T...</td>\n",
       "      <td>0.0</td>\n",
       "      <td>0.0</td>\n",
       "      <td>0.0</td>\n",
       "    </tr>\n",
       "  </tbody>\n",
       "</table>\n",
       "</div>"
      ],
      "text/plain": [
       "       feature_idx                  cv_scores avg_score  \\\n",
       "1             (0,)  [1.0, 1.0, 1.0, 1.0, 1.0]       1.0   \n",
       "2           (0, 2)  [1.0, 1.0, 1.0, 1.0, 1.0]       1.0   \n",
       "3        (0, 1, 2)  [1.0, 1.0, 1.0, 1.0, 1.0]       1.0   \n",
       "4     (0, 1, 2, 3)  [1.0, 1.0, 1.0, 1.0, 1.0]       1.0   \n",
       "5  (0, 1, 2, 3, 5)  [1.0, 1.0, 1.0, 1.0, 1.0]       1.0   \n",
       "\n",
       "                                       feature_names ci_bound std_dev std_err  \n",
       "1                                         (RATINGS,)      0.0     0.0     0.0  \n",
       "2                            (RATINGS, NAME_Encoded)      0.0     0.0     0.0  \n",
       "3               (RATINGS, AGE_Encoded, NAME_Encoded)      0.0     0.0     0.0  \n",
       "4  (RATINGS, AGE_Encoded, NAME_Encoded, COMPANY T...      0.0     0.0     0.0  \n",
       "5  (RATINGS, AGE_Encoded, NAME_Encoded, COMPANY T...      0.0     0.0     0.0  "
      ]
     },
     "execution_count": 45,
     "metadata": {},
     "output_type": "execute_result"
    }
   ],
   "source": [
    "import pandas as pd\n",
    "pd.DataFrame.from_dict(sfs1.get_metric_dict()).T"
   ]
  },
  {
   "cell_type": "markdown",
   "id": "f06bf3bb",
   "metadata": {},
   "source": [
    "So According to SequentialFeatureSelector the most 5 imp features are:\n",
    "* 'RATINGS',\n",
    "*'AGE_Encoded'\n",
    "*'NAME_Encoded'\n",
    "*'COMPANY TYPE_Encoded'\n",
    "*'REVIEWS_Encoded')"
   ]
  },
  {
   "cell_type": "markdown",
   "id": "4d954243",
   "metadata": {},
   "source": [
    " ## Now Let's Conclude the top 3 significant features: "
   ]
  },
  {
   "cell_type": "markdown",
   "id": "2fd5a37a",
   "metadata": {},
   "source": [
    "For this , we can take the common features from all the methods.\n",
    "\n",
    "**From Information gain - mutual information**\n",
    "\n",
    "So Top 5 significant Features are : \n",
    "* 'RATINGS', 'NAME_Encoded', 'COMPANY TYPE_Encoded', 'REVIEWS_Encoded', 'HEADQUATERS_Encoded'\n",
    "\n",
    "**From Fisher Score- Chi square Test**\n",
    "\n",
    "So Top 5 significant Features are : \n",
    "*  REVIEWS_Encoded , RATINGS , NAME_Encoded , HEADQUATERS_Encoded and EMPLOYEES_Encoded\n",
    "\n",
    "**From DecisionTreeClassifier**\n",
    "\n",
    "So Top 2 significant Features are :\n",
    "* RATINGS and NAME_Encoded\n",
    "\n",
    "**From SequentialFeatureSelector**\n",
    "\n",
    "So Top 5 significant Features are :\n",
    "* 'RATINGS','AGE_Encoded', 'NAME_Encoded' , 'COMPANY TYPE_Encoded' 'REVIEWS_Encoded'\n",
    "\n",
    "## So looking the top 3 significant features of every method we have the following features:\n",
    "\n",
    "* **RATINGS**\n",
    "* **NAME_Encoded**\n",
    "* **REVIEWS_Encoded**\n",
    "\n",
    "\n",
    "\n",
    "\n"
   ]
  },
  {
   "cell_type": "markdown",
   "id": "93df8a14",
   "metadata": {},
   "source": [
    "Now we are all set for the model building part:) "
   ]
  },
  {
   "cell_type": "code",
   "execution_count": null,
   "id": "f958d2c6",
   "metadata": {},
   "outputs": [],
   "source": []
  }
 ],
 "metadata": {
  "kernelspec": {
   "display_name": "Python 3 (ipykernel)",
   "language": "python",
   "name": "python3"
  },
  "language_info": {
   "codemirror_mode": {
    "name": "ipython",
    "version": 3
   },
   "file_extension": ".py",
   "mimetype": "text/x-python",
   "name": "python",
   "nbconvert_exporter": "python",
   "pygments_lexer": "ipython3",
   "version": "3.9.7"
  }
 },
 "nbformat": 4,
 "nbformat_minor": 5
}
